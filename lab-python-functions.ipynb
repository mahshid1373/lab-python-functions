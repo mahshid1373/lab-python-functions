{
 "cells": [
  {
   "cell_type": "markdown",
   "id": "0c581062-8967-4d93-b06e-62833222f930",
   "metadata": {
    "tags": []
   },
   "source": [
    "## Exercise: Managing Customer Orders with Functions\n",
    "\n",
    "In the previous exercise, you improved the code for managing customer orders by using loops and flow control. Now, let's take it a step further and refactor the code by introducing functions.\n",
    "\n",
    "Follow the steps below to complete the exercise:\n",
    "\n",
    "1. Define a function named `initialize_inventory` that takes `products` as a parameter. Inside the function, implement the code for initializing the inventory dictionary using a loop and user input.\n",
    "\n",
    "2. Define a function named `get_customer_orders` that takes no parameters. Inside the function, implement the code for prompting the user to enter the product names using a loop. The function should return the `customer_orders` set.\n",
    "\n",
    "3. Define a function named `update_inventory` that takes `customer_orders` and `inventory` as parameters. Inside the function, implement the code for updating the inventory dictionary based on the customer orders.\n",
    "\n",
    "4. Define a function named `calculate_order_statistics` that takes `customer_orders` and `products` as parameters. Inside the function, implement the code for calculating the order statistics (total products ordered, and percentage of unique products ordered). The function should return these values.\n",
    "\n",
    "5. Define a function named `print_order_statistics` that takes `order_statistics` as a parameter. Inside the function, implement the code for printing the order statistics.\n",
    "\n",
    "6. Define a function named `print_updated_inventory` that takes `inventory` as a parameter. Inside the function, implement the code for printing the updated inventory.\n",
    "\n",
    "7. Call the functions in the appropriate sequence to execute the program and manage customer orders.\n",
    "\n",
    "Hints for functions:\n",
    "\n",
    "- Consider the input parameters required for each function and their return values.\n",
    "- Utilize function parameters and return values to transfer data between functions.\n",
    "- Test your functions individually to ensure they work correctly.\n",
    "\n",
    "\n"
   ]
  },
  {
   "cell_type": "code",
   "execution_count": 3,
   "id": "e4f6aa77",
   "metadata": {},
   "outputs": [
    {
     "name": "stdout",
     "output_type": "stream",
     "text": [
      "Enter the quantity for each product:\n",
      "This product is not available. Please enter another product name.\n",
      "\n",
      "\n",
      "Order Statistics:\n",
      "Total Ordered Products: 1\n",
      "Percentage of Ordered Products: 20.0 %\n",
      "\n",
      "\n",
      "Updated Inventory:\n",
      "t-shirt   1\n",
      "mug   0\n",
      "hat   1\n",
      "book   1\n",
      "keychain   1\n"
     ]
    }
   ],
   "source": [
    "def initialize_inventory(products):\n",
    "    inventory = {}\n",
    "    print(\"Enter the quantity for each product:\")\n",
    "    for product in products:\n",
    "        quantity = int(input(f\"Number of {product}: \"))\n",
    "        inventory[product] = quantity\n",
    "    return inventory\n",
    "\n",
    "def get_customer_orders():\n",
    "    customer_orders = set()\n",
    "    while True:\n",
    "        ask = input(\"Do you want to order a product? yes/no: \")\n",
    "        if ask == \"yes\":\n",
    "            product = input(\"Enter the name of a product the you want order: \")\n",
    "            if product in products:\n",
    "                customer_orders.add(product)\n",
    "            else:\n",
    "                print(\"This product is not available. Please enter another product name.\")\n",
    "        elif ask == \"no\":\n",
    "            break\n",
    "        else:\n",
    "            print(\"Not meaningful input. please try again.\")\n",
    "    return customer_orders\n",
    "\n",
    "def update_inventory(customer_orders, inventory):\n",
    "    for order in customer_orders:\n",
    "        if inventory[order] > 0:\n",
    "            inventory[order] -= 1\n",
    "    return inventory\n",
    "\n",
    "def calculate_order_statistics(customer_orders, products):\n",
    "    total_products_ordered = len(customer_orders)\n",
    "    total_products_available = len(products)\n",
    "    percentage_ordered = total_products_ordered / total_products_available * 100\n",
    "    return (total_products_ordered, percentage_ordered)\n",
    "\n",
    "def print_order_statistics(order_statistics):\n",
    "    print(\"\\n\\nOrder Statistics:\")\n",
    "    print(\"Total Ordered Products:\", order_statistics[0])\n",
    "    print(\"Percentage of Ordered Products:\", order_statistics[1], \"%\")\n",
    "\n",
    "def print_updated_inventory(inventory):\n",
    "    print(\"\\n\\nUpdated Inventory:\")\n",
    "    for product, quantity in inventory.items():\n",
    "        print(product, \" \", quantity)\n",
    "\n",
    "# Initialization\n",
    "products = [\"t-shirt\", \"mug\", \"hat\", \"book\", \"keychain\"]\n",
    "\n",
    "# Start\n",
    "inventory = initialize_inventory(products)\n",
    "customer_orders = get_customer_orders()\n",
    "inventory = update_inventory(customer_orders, inventory)\n",
    "order_statistics = calculate_order_statistics(customer_orders, products)\n",
    "print_order_statistics(order_statistics)\n",
    "print_updated_inventory(inventory)\n"
   ]
  }
 ],
 "metadata": {
  "kernelspec": {
   "display_name": "Python 3 (ipykernel)",
   "language": "python",
   "name": "python3"
  },
  "language_info": {
   "codemirror_mode": {
    "name": "ipython",
    "version": 3
   },
   "file_extension": ".py",
   "mimetype": "text/x-python",
   "name": "python",
   "nbconvert_exporter": "python",
   "pygments_lexer": "ipython3",
   "version": "3.9.6"
  }
 },
 "nbformat": 4,
 "nbformat_minor": 5
}
